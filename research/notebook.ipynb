{
 "cells": [
  {
   "cell_type": "code",
   "execution_count": 1,
   "id": "747d1664",
   "metadata": {},
   "outputs": [],
   "source": [
    "import os\n",
    "os.chdir('../')"
   ]
  },
  {
   "cell_type": "code",
   "execution_count": 4,
   "id": "6470319e",
   "metadata": {},
   "outputs": [
    {
     "data": {
      "text/plain": [
       "'c:\\\\Users\\\\sara\\\\medical-chatbot'"
      ]
     },
     "execution_count": 4,
     "metadata": {},
     "output_type": "execute_result"
    }
   ],
   "source": [
    "%pwd"
   ]
  },
  {
   "cell_type": "code",
   "execution_count": 5,
   "id": "3b01a2c6",
   "metadata": {},
   "outputs": [],
   "source": [
    "from langchain.document_loaders import PyPDFLoader, DirectoryLoader\n",
    "from langchain.text_splitter import RecursiveCharacterTextSplitter"
   ]
  },
  {
   "cell_type": "code",
   "execution_count": null,
   "id": "8f59b765",
   "metadata": {},
   "outputs": [],
   "source": [
    "# extract text from pdf file\n",
    "def load_pdf(data):\n",
    "    loader= DirectoryLoader(\n",
    "        data,\n",
    "        glob=\"*.pdf\",\n",
    "        loader_cls= PyPDFLoader # type: ignore\n",
    "        )\n",
    "        \n",
    "    documents = loader.load()\n",
    "    return documents    \n",
    "    "
   ]
  },
  {
   "cell_type": "code",
   "execution_count": 7,
   "id": "fc525dc1",
   "metadata": {},
   "outputs": [],
   "source": [
    "extracted_docs = load_pdf('data')"
   ]
  },
  {
   "cell_type": "code",
   "execution_count": 9,
   "id": "4d92e5f5",
   "metadata": {},
   "outputs": [
    {
     "data": {
      "text/plain": [
       "637"
      ]
     },
     "execution_count": 9,
     "metadata": {},
     "output_type": "execute_result"
    }
   ],
   "source": [
    "len(extracted_docs)"
   ]
  },
  {
   "cell_type": "code",
   "execution_count": 11,
   "id": "8f7e82eb",
   "metadata": {},
   "outputs": [
    {
     "data": {
      "text/plain": [
       "[Document(metadata={'producer': 'PDFlib+PDI 5.0.0 (SunOS)', 'creator': 'PyPDF', 'creationdate': '2004-12-18T17:00:02-05:00', 'moddate': '2004-12-18T16:15:31-06:00', 'source': 'data\\\\gale_encyclopedia_of_medicine.pdf', 'total_pages': 637, 'page': 0, 'page_label': '1'}, page_content=''),\n",
       " Document(metadata={'producer': 'PDFlib+PDI 5.0.0 (SunOS)', 'creator': 'PyPDF', 'creationdate': '2004-12-18T17:00:02-05:00', 'moddate': '2004-12-18T16:15:31-06:00', 'source': 'data\\\\gale_encyclopedia_of_medicine.pdf', 'total_pages': 637, 'page': 1, 'page_label': '2'}, page_content='The GALE\\nENCYCLOPEDIA\\nof MEDICINE\\nSECOND EDITION'),\n",
       " Document(metadata={'producer': 'PDFlib+PDI 5.0.0 (SunOS)', 'creator': 'PyPDF', 'creationdate': '2004-12-18T17:00:02-05:00', 'moddate': '2004-12-18T16:15:31-06:00', 'source': 'data\\\\gale_encyclopedia_of_medicine.pdf', 'total_pages': 637, 'page': 2, 'page_label': '3'}, page_content='The GALE\\nENCYCLOPEDIA\\nof MEDICINE\\nSECOND EDITION\\nJACQUELINE L. LONGE, EDITOR\\nDEIRDRE S. BLANCHFIELD, ASSOCIATE EDITOR\\nVOLUME\\nA-B\\n1'),\n",
       " Document(metadata={'producer': 'PDFlib+PDI 5.0.0 (SunOS)', 'creator': 'PyPDF', 'creationdate': '2004-12-18T17:00:02-05:00', 'moddate': '2004-12-18T16:15:31-06:00', 'source': 'data\\\\gale_encyclopedia_of_medicine.pdf', 'total_pages': 637, 'page': 3, 'page_label': '4'}, page_content='STAFF\\nJacqueline L. Longe, Project Editor\\nDeirdre S. Blanchfield, Associate Editor\\nChristine B. Jeryan, Managing Editor\\nDonna Olendorf, Senior Editor\\nStacey Blachford, Associate Editor\\nKate Kretschmann, Melissa C. McDade, Ryan\\nThomason, Assistant Editors\\nMark Springer, Technical Specialist\\nAndrea Lopeman, Programmer/Analyst\\nBarbara J. Yarrow,Manager, Imaging and Multimedia\\nContent\\nRobyn V . Young,Project Manager, Imaging and\\nMultimedia Content\\nDean Dauphinais, Senior Editor, Imaging and\\nMultimedia Content\\nKelly A. Quin, Editor, Imaging and Multimedia Content\\nLeitha Etheridge-Sims, Mary K. Grimes, Dave Oblender,\\nImage Catalogers\\nPamela A. Reed, Imaging Coordinator\\nRandy Bassett, Imaging Supervisor\\nRobert Duncan, Senior Imaging Specialist\\nDan Newell, Imaging Specialist\\nChristine O’Bryan,Graphic Specialist\\nMaria Franklin, Permissions Manager\\nMargaret A. Chamberlain, Permissions Specialist\\nMichelle DiMercurio, Senior Art Director\\nMike Logusz, Graphic Artist\\nMary Beth Trimper,Manager, Composition and\\nElectronic Prepress\\nEvi Seoud, Assistant Manager, Composition Purchasing\\nand Electronic Prepress\\nDorothy Maki, Manufacturing Manager\\nWendy Blurton, Senior Manufacturing Specialist\\nThe GALE\\nENCYCLOPEDIA\\nof MEDICINE\\nSECOND EDITION\\nSince this page cannot legibly accommodate all copyright notices, the\\nacknowledgments constitute an extension of the copyright notice.\\nWhile every effort has been made to ensure the reliability of the infor-\\nmation presented in this publication, the Gale Group neither guarantees\\nthe accuracy of the data contained herein nor assumes any responsibili-\\nty for errors, omissions or discrepancies. The Gale Group accepts no\\npayment for listing, and inclusion in the publication of any organiza-\\ntion, agency, institution, publication, service, or individual does not\\nimply endorsement of the editor or publisher. Errors brought to the\\nattention of the publisher and verified to the satisfaction of the publish-\\ner will be corrected in future editions.\\nThis book is printed on recycled paper that meets Environmental Pro-\\ntection Agency standards.\\nThe paper used in this publication meets the minimum requirements of\\nAmerican National Standard for Information Sciences-Permanence\\nPaper for Printed Library Materials, ANSI Z39.48-1984.\\nThis publication is a creative work fully protected by all applicable\\ncopyright laws, as well as by misappropriation, trade secret, unfair com-\\npetition, and other applicable laws. The authors and editor of this work\\nhave added value to the underlying factual material herein through one\\nor more of the following: unique and original selection, coordination,\\nexpression, arrangement, and classification of the information.\\nGale Group and design is a trademark used herein under license.\\nAll rights to this publication will be vigorously defended.\\nCopyright © 2002\\nGale Group\\n27500 Drake Road\\nFarmington Hills, MI 48331-3535\\nAll rights reserved including the right of reproduction in whole or in\\npart in any form.\\nISBN 0-7876-5489-2 (set)\\n0-7876-5490-6 (V ol. 1)\\n0-7876-5491-4 (V ol. 2)\\n0-7876-5492-2 (V ol. 3)\\n0-7876-5493-0 (V ol. 4)\\n0-7876-5494-9 (V ol. 5)\\nPrinted in the United States of America\\n10 9 8 7 6 5 4 3 2 1\\nLibrary of Congress Cataloging-in-Publication Data\\nGale encyclopedia of medicine / Jacqueline L. Longe, editor;\\nDeirdre S. Blanchfield, associate editor — 2nd ed.\\np. cm.\\nIncludes bibliographical references and index.\\nContents: V ol. 1. A-B — v. 2. C-F — v. 3.\\nG-M — v. 4. N-S — v. 5. T-Z.\\nISBN 0-7876-5489-2 (set: hardcover) — ISBN 0-7876-5490-6\\n(vol. 1) — ISBN 0-7876-5491-4 (vol. 2) — ISBN 0-7876-5492-2\\n(vol. 3) — ISBN 0-7876-5493-0 (vol. 4) — ISBN 0-7876-5494-9\\n(vol. 5)\\n1. Internal medicine—Encyclopedias. I. Longe, Jacqueline L. \\nII. Blanchfield, Deirdre S. III. Gale Research Company.\\nRC41.G35 2001\\n616’.003—dc21\\n2001051245'),\n",
       " Document(metadata={'producer': 'PDFlib+PDI 5.0.0 (SunOS)', 'creator': 'PyPDF', 'creationdate': '2004-12-18T17:00:02-05:00', 'moddate': '2004-12-18T16:15:31-06:00', 'source': 'data\\\\gale_encyclopedia_of_medicine.pdf', 'total_pages': 637, 'page': 4, 'page_label': '5'}, page_content='Introduction.................................................... ix\\nAdvisory Board.............................................. xi\\nContributors ................................................. xiii\\nEntries\\nVolume 1: A-B.............................................. 1\\nVolume 2: C-F.......................................... 625\\nVolume 3: G-M....................................... 1375\\nVolume 4: N-S........................................ 2307\\nVolume 5: T-Z........................................ 3237\\nOrganizations ............................................ 3603\\nGeneral Index............................................ 3625\\nGALE ENCYCLOPEDIA OF MEDICINE 2 V\\nCONTENTS')]"
      ]
     },
     "execution_count": 11,
     "metadata": {},
     "output_type": "execute_result"
    }
   ],
   "source": [
    "# Display the first 5 documents in the list\n",
    "extracted_docs[:5]"
   ]
  },
  {
   "cell_type": "code",
   "execution_count": 12,
   "id": "523f76ee",
   "metadata": {},
   "outputs": [],
   "source": [
    "from typing import List\n",
    "from langchain.schema import Document\n",
    "\n",
    "# include only relevant content from the documents\n",
    "def filter_docs(docs: List[Document]) -> List[Document]:\n",
    "    filtered_docs: List[Document] = []\n",
    "    for doc in docs:\n",
    "        src = doc.metadata.get(\"source\") # Extract the 'source' from the original metadata\n",
    "        filtered_docs.append(\n",
    "            Document(\n",
    "                page_content=doc.page_content,   # Keep the original page content\n",
    "                metadata={\"source\": src}         # Only keep 'source' in metadata\n",
    "            )\n",
    "        )\n",
    "    return filtered_docs    "
   ]
  },
  {
   "cell_type": "code",
   "execution_count": 13,
   "id": "c340986e",
   "metadata": {},
   "outputs": [],
   "source": [
    "filtered_docs = filter_docs(extracted_docs)"
   ]
  },
  {
   "cell_type": "code",
   "execution_count": 16,
   "id": "944dc3bd",
   "metadata": {},
   "outputs": [
    {
     "data": {
      "text/plain": [
       "[Document(metadata={'source': 'data\\\\gale_encyclopedia_of_medicine.pdf'}, page_content='the late second or third trimester. Although D&X is high-\\nly controversial, some physicians argue that it has advan-\\ntages that make it a preferable procedure in some circum-\\nstances. One perceived advantage is that the fetus is\\nremoved largely intact, allowing for better evaluation and\\nautopsy of the fetus in cases of known fetal anomalies.\\nIntact removal of the fetus may also confer a lower risk\\nof puncturing the uterus or damaging the cervix. Another\\nperceived advantage is that D&X ends the pregnancy\\nwithout requiring the woman to go through labor, which\\nmay be less emotionally traumatic than other methods of\\nlate-term abortion. In addition, D&X may offer a lower\\ncost and shorter procedure time.\\nPrecautions\\nWomen considering D&X should be aware of the\\nhighly controversial nature of this procedure. A contro-\\nversy common to all late-term abortions is whether the\\nfetus is viable, or able to survive outside of the woman’s\\nbody. A specific area of controversy with D&X is that\\nfetal death does not occur until after most of the fetal\\nbody has exited the uterus. Several states have taken\\nlegal action to limit or ban D&X and many physicians\\nwho perform abortions do not perform D&X. This may\\nrestrict the availability of this procedure to women seek-\\ning late-term abortion.\\nDescription\\nIntact D&X, or partial birth abortion first involves\\nadministration of medications to cause the cervix to\\ndilate, usually over the course of several days. Next, the\\nphysician rotates the fetus to a footling breech position.\\nThe body of the fetus is then drawn out of the uterus feet\\nfirst, until only the head remains inside the uterus. Then,\\nthe physician uses an instrument to puncture the base of\\nthe skull, which collapses the fetal head. Typically, the\\ncontents of the fetal head are then partially suctioned out,\\nwhich results in the death of the fetus, and reduces the\\nsizes of the fetal head enough to allow it to pass through\\nthe cervix. The dead and otherwise intact fetus is then\\nremoved from the woman’s body.\\nPreparation\\nMedical preparation for D&X involves an outpatient\\nvisit to administer medications, such as laminaria ,t o\\ncause the cervix to begin dilating.\\nIn addition, preparation may involve fulfilling local\\nlegal requirements, such as a mandatory waiting period,\\ncounseling, or an informed consent procedure reviewing\\nstages of fetal development, childbirth, alternative abor-\\ntion methods, and adoption.\\nKEY TERMS\\nCervix—The narrow outer end of the uterus that\\nseparates the uterus from the vaginal canal.\\nFootling breech —A position of the fetus while in\\nthe uterus where the feet of the fetus are nearest\\nthe cervix would be the first part of the fetus to exit\\nthe uterus, with the head of the fetus being the last\\npart to exit the uterus.\\nLaminaria —A medical product made from a cer-\\ntain type of seaweed that is physically placed near\\nthe cervix to cause it to dilate.\\nAftercare\\nD&X typically does not require an overnight hospi-\\ntal stay, so a follow up appointment may be scheduled to\\nmonitor the woman for any complications.\\nRisks\\nWith all abortion, the later in pregnancy an abortion\\nis performed, the more complicated the procedure and\\nthe greater the risk of injury to the woman. In addition to\\nassociated emotion reactions, D&X carries the risk of\\ninjury to the woman, including heavy bleeding, blood\\nclots, damage to the cervix or uterus, pelvic infection,\\nand anesthesia-related complications. There is also a risk\\nof incomplete abortion, meaning that the fetus is not\\ndead when removed from the woman’s body. Possible\\nlong-term risks include difficulty becoming pregnant or\\ncarrying a future pregnancy to term.\\nNormal results\\nThe expected outcome of D&X is the termination of\\na pregnancy with removal of a dead fetus from the\\nwoman’s body.\\nResources\\nPERIODICALS\\nEpner, Janet E., et al. “Late-term Abortion.”JAMA 280, no. 8\\n(26 August 1998): 724-729.\\nSprang, M. LeRoy, and Neerhof, Mark G. “Rationale for Ban-\\nning Abortions Late in Pregnancy.”JAMA (26 August\\n1998): 744-747.\\nSwomley, John M. “The ‘Partial-birth’ Debate in 1998.”\\nHumanist (March/April 1998): 5-7.\\nGrimes, David A. “The Continuing Need for Late Abortion.”\\nJAMA (26 August 1998): 747-750.\\nGALE ENCYCLOPEDIA OF MEDICINE 2 7\\nAbortion, partial birth\\nGEM - 0001 to 0432 - A  10/22/03 1:41 PM  Page 7'),\n",
       " Document(metadata={'source': 'data\\\\gale_encyclopedia_of_medicine.pdf'}, page_content='ORGANIZATIONS\\nPlanned Parenthood Federation of America. 810 Seventh Ave.,\\nNew York, NY 10019. (212) 541-7800. FAX: (212) 245-\\n1845.\\nOTHER\\nStatus of partial-birth abortion laws in the states. Othmer Insti-\\ntute at Planned Parenthood of NYC. 2000.\\nStefanie B. N. Dugan, M.S.\\nAbortion, selective\\nDefinition\\nSelective abortion, also known as selective reduc-\\ntion, refers to choosing to abort a fetus, typically in a\\nmulti-fetal pregnancy, to decrease the health risks to the\\nmother in carrying and giving birth to more than one or\\ntwo babies, and also to decrease the risk of complications\\nto the remaining fetus(es). The term selective abortion\\nalso refers to choosing to abort a fetus for reasons such as\\nthe woman is carrying a fetus which likely will be born\\nwith some birth defect or impairment, or because the sex\\nof the fetus is not preferred by the individual.\\nPurpose\\nA woman may decide to abort for health reasons, for\\nexample, she is at higher risk for complications during preg-\\nnancy because of a disorder or disease such as diabetes.\\nHowever, selective reduction is recommended often in\\ncases of multi-fetal pregnancy, or the presence of more than\\none fetus, typically, at least three or more fetuses. In the\\ngeneral population, multi-fetal pregnancy happens in only\\nabout 1-2% of pregnant women. But multi-fetal pregnan-\\ncies occur far more often in women using fertility drugs.\\nPrecautions\\nBecause women or couples who use fertility drugs\\nhave made an extra effort to become pregnant, it is possi-\\nble that the individuals may be unwilling or uncomfort-\\nable with the decision to abort a fetus in cases of multi-\\nfetal pregnancy. Individuals engaging in fertility treat-\\nment should be made aware of the risk of multi-fetal\\npregnancy and consider the prospect of recommended\\nreduction before undergoing fertility treatment.\\nDescription\\nSelective reduction is usually performed between\\nnine and 12 weeks of pregnancy and is most successful\\nwhen performed in early pregnancy. It is a simple proce-\\ndure and can be performed on an outpatient basis. A nee-\\ndle is inserted into the woman’s stomach or vagina and\\npotassium chloride is injected into the fetus.\\nPreparation\\nIndividuals who have chosen selective reduction to\\nsafeguard the remaining fetuses should be counseled\\nprior to the procedure. Individuals should receive infor-\\nmation regarding the risks of a multi-fetal pregnancy to\\nboth the fetuses and the mother compared with the risks\\nafter the reduction.\\nIndividuals seeking an abortion for any reason\\nshould consider the ethical implications whether it be\\nbecause the fetus is not the preferred sex or because the\\nfetus would be born with a severe birth defect.\\nAftercare\\nCounseling should continue after the abortion\\nbecause it is a traumatic event. Individuals may feel\\nguilty about choosing one fetus over another. Mental\\nhealth professionals should be consulted throughout the\\nprocess.\\nRisks\\nAbout 75% of women who undergo selective reduc-\\ntion will go into premature labor . About 4-5% of\\nwomen undergoing selective reduction also miscarry one\\nor more of the remaining fetuses. The risks associated\\nwith multi-fetal pregnancy is considered higher.\\nNormal results\\nIn cases where a multi-fetal pregnancy, three or\\nmore fetuses, is reduced to two, the twin fetuses typically\\ndevelop as they would as if they were conceived as twins.\\nResources\\nBOOKS\\nKnobil, Ernst and Jimmy D. Neill, editors. “Abortion.” In\\nEncyclopedia of Reproduction. San Diego: Adademic\\nPress, 1998, pp.1-5.\\nScott, James R., editor. “Induced Abortion.” In Danforth’s\\nObstetrics and Gynecology. Philadelphia: Lippincott\\nWilliams & Wilkins, 1999, pp.567-578.\\nPERIODICALS\\nAuthor unspecified. “Multiple Pregnancy Associated With\\nInfertility Therapy.”American Society for Reproductive\\nMedicine, A Practice Committee Report (November\\n2000): 1-8.\\nGALE ENCYCLOPEDIA OF MEDICINE 28\\nAbortion, selective\\nGEM - 0001 to 0432 - A  10/22/03 1:41 PM  Page 8'),\n",
       " Document(metadata={'source': 'data\\\\gale_encyclopedia_of_medicine.pdf'}, page_content='ORGANIZATIONS\\nThe American Society for Reproductive Medicine. 1209 Mont-\\ngomery Highway, Birmingham, AL 35216-2809. (205)\\n978-5000. <http://www.asrm.org>.\\nThe Alan Guttmacher Institute. 120 Wall Street, New York, NY\\n10005. (212) 248-1111. <http://www.agi-usa.org>.\\nMeghan M. Gourley\\nAbortion, spontaneous see Miscarriage\\nAbortion, therapeutic\\nDefinition\\nTherapeutic abortion is the intentional termination\\nof a pregnancy before the fetus can live independently.\\nAbortion has been a legal procedure in the United States\\nsince 1973.\\nPurpose\\nAn abortion may be performed whenever there is\\nsome compelling reason to end a pregnancy. Women\\nhave abortions because continuing the pregnancy would\\ncause them hardship, endanger their life or health, or\\nbecause prenatal testing has shown that the fetus will be\\nborn with severe abnormalities.\\nAbortions are safest when performed within the first\\nsix to 10 weeks after the last menstrual period. The cal-\\nculation of this date is referred to as the gestational age\\nand is used in determining the stage of pregnancy. For\\nexample, a woman who is two weeks late having her\\nperiod is said to be six weeks pregnant, because it is six\\nweeks since she last menstruated.\\nAbout 90% of women who have abortions do so\\nbefore 13 weeks and experience few complications.\\nAbortions performed between 13-24 weeks have a higher\\nKEY TERMS\\nMulti-fetal pregnancy —A pregnancy of two or\\nmore fetuses.\\nSelective reduction—Typically referred to in cases\\nof multifetal pregnancy, when one or more fetuses\\nare aborted to preserve the viability of the remain-\\ning fetuses and decrease health risks to the mother.\\nrate of complications. Abortions after 24 weeks are\\nextremely rare and are usually limited to situations where\\nthe life of the mother is in danger.\\nPrecautions\\nMost women are able to have abortions at clinics or\\noutpatient facilities if the procedure is performed early in\\npregnancy. Women who have stable diabetes, controlled\\nepilepsy, mild to moderate high blood pressure, or who\\nare HIV positive can often have abortions as outpatients\\nif precautions are taken. Women with heart disease, pre-\\nvious endocarditis, asthma, lupus erythematosus, uter-\\nine fibroid tumors, blood clotting disorders, poorly con-\\ntrolled epilepsy, or some psychological disorders usually\\nneed to be hospitalized in order to receive special moni-\\ntoring and medications during the procedure.\\nDescription\\nV ery early abortions\\nBetween five and seven weeks, a pregnancy can be\\nended by a procedure called menstrual extraction. This\\nprocedure is also sometimes called menstrual regulation,\\nmini-suction, or preemptive abortion. The contents of the\\nuterus are suctioned out through a thin (3-4 mm) plastic\\ntube that is inserted through the undilated cervix. Suction\\nis applied either by a bulb syringe or a small pump.\\nAnother method is called the “morning after” pill, or\\nemergency contraception . Basically, it involves taking\\nhigh doses of birth control pills within 24 to 48 hours of\\nhaving unprotected sex. The high doses of hormones\\ncauses the uterine lining to change so that it will not sup-\\nport a pregnancy. Thus, if the egg has been fertilized, it is\\nsimply expelled from the body.\\nThere are two types of emergency contraception.\\nOne type is identical to ordinary birth control pills, and\\nuses the hormones estrogen and progestin). This type is\\navailable with a prescription under the brand name Pre-\\nven. But women can even use their regular birth control\\npills for emergency contraception, after they check with\\ntheir doctor about the proper dose. About half of women\\nwho use birth control pills for emergency contraception\\nget nauseated and 20 percent vomit. This method cuts the\\nrisk of pregnancy 75 percent.\\nThe other type of morning-after pill contains only\\none hormone: progestin, and is available under the brand\\nname Plan B. It is more effective than the first type with\\na lower risk of nausea and vomiting. It reduces the risk\\nof pregnancy 89 percent.\\nWomen should check with their physicians regard-\\ning the proper dose of pills to take, as it depends on the\\nGALE ENCYCLOPEDIA OF MEDICINE 2 9\\nAbortion, therapeutic\\nGEM - 0001 to 0432 - A  10/22/03 1:41 PM  Page 9'),\n",
       " Document(metadata={'source': 'data\\\\gale_encyclopedia_of_medicine.pdf'}, page_content='brand of birth control pill. Not all birth control pills will\\nwork for emergency contraception.\\nMenstrual extractions are safe, but because the\\namount of fetal material is so small at this stage of devel-\\nopment, it is easy to miss. This results in an incomplete\\nabortion that means the pregnancy continues.\\nFirst trimester abortions\\nThe first trimester of pregnancy includes the first 13\\nweeks after the last menstrual period. In the United\\nStates, about 90% of abortions are performed during this\\nperiod. It is the safest time in which to have an abortion,\\nand the time in which women have the most choice of\\nhow the procedure is performed.\\nMEDICAL ABORTIONS. Medical abortions are brought\\nabout by taking medications that end the pregnancy. The\\nadvantages of a first trimester medical abortion are:\\n• The procedure is non-invasive; no surgical instruments\\nare used.\\n• Anesthesia is not required.\\n• Drugs are administered either orally or by injection.\\n• The procedure resembles a natural miscarriage.\\nDisadvantages of a medical abortion are:\\n• The effectiveness decreases after the seventh week.\\n• The procedure may require multiple visits to the doctor.\\n• Bleeding after the abortion lasts longer than after a sur-\\ngical abortion.\\n• The woman may see the contents of her womb as it is\\nexpelled.\\nTwo different medications can be used to bring about\\nan abortion. Methotrexate (Rheumatrex) works by stop-\\nping fetal cells from dividing which causes the fetus to die.\\nOn the first visit to the doctor, the woman receives\\nan injection of methotrexate. On the second visit, about\\na week later, she is given misoprostol (Cytotec), an\\noxygenated unsaturated cyclic fatty acid responsible for\\nvarious hormonal reactions such as muscle contraction\\n(prostaglandin), that stimulates contractions of the\\nuterus. Within two weeks, the woman will expel the\\ncontents of her uterus, ending the pregnancy. A follow-\\nup visit to the doctor is necessary to assure that the\\nabortion is complete.\\nWith this procedure, a woman will feel cramping\\nand may feel nauseated from the misoprostol. This\\ncombination of drugs is 90-96% effective in ending\\npregnancy.\\nMifepristone (RU-486), which goes by the brand\\nname Mifeprex, works by blocking the action of prog-\\nesterone, a hormone needed for pregnancy to continue,\\nthen stimulates uterine contractions thus ending the\\npregnancy. It can be taken a much as 49 days after the\\nfirst day of a woman’s last period. On the first visit to\\nthe doctor, a woman takes a mifepristone pill. Two days\\nlater she returns and, if the miscarriage has not\\noccurred, takes two misoprostol pills, which causes the\\nuterus to contract. Five percent of women won’t need to\\ntake misoprostol. After an observation period, she\\nreturns home.\\nWithin four days, 90% of women have expelled the\\ncontents of their uterus and completed the abortion.\\nWithin 14 days, 95-97% of women have completed the\\nabortion. A third follow-up visit to the doctor is neces-\\nsary to confirm through observation or ultrasound that\\nthe procedure is complete. In the event that it is not, a\\nsurgical abortion is performed. Studies show that 4.5 to 8\\npercent of women need surgery or a blood transfusion\\nafter taking mifepristone, and the pregnancy persists in\\nabout 1 percent of women. In this case, surgical abortion\\nis recommended because the fetus may be damanged.\\nSide effects include nausea, vaginal bleeding and heavy\\ncramping. The bleeding is typically heavier than a nor-\\nmal period and may last up to 16 days.\\nMifepristone is not recommended for women with\\nectopic pregnancy, an IUD, who have been taking long-\\nGALE ENCYCLOPEDIA OF MEDICINE 210\\nAbortion, therapeutic\\nUterus\\nEmbryonic\\ntissue\\nVagina Vulsellum\\nCervix\\nSpeculum\\nExtraction tube\\nBetween 5 and 7 weeks, a pregnancy can be ended by a pro-\\ncedure called menstrual extraction.The contents of the\\nuterus are suctioned out through a thin extraction tube that\\nis inserted through the undilated cervix. (Illustration by Elec-\\ntronic Illustrators Group.)\\nGEM - 0001 to 0432 - A  10/22/03 1:41 PM  Page 10'),\n",
       " Document(metadata={'source': 'data\\\\gale_encyclopedia_of_medicine.pdf'}, page_content='term steroidal therapy, have bleeding abnormalities or on\\nblood-thinners such as Coumadin.\\nSurgical abortions\\nFirst trimester surgical abortions are performed\\nusing vacuum aspiration. The procedure is also called\\ndilation and evacuation (D & E), suction dilation, vacu-\\num curettage, or suction curettage.\\nAdvantages of a vacuum aspiration abortion are:\\n• It is usually done as a one-day outpatient procedure.\\n• The procedure takes only 10-15 minutes.\\n• Bleeding after the abortion lasts five days or less.\\n• The woman does not see the products of her womb\\nbeing removed.\\nDisadvantages include:\\n• The procedure is invasive; surgical instruments are used.\\n• Infection may occur.\\nDuring a vacuum aspiration, the woman’s cervix is\\ngradually dilated by expanding rods inserted into the\\ncervical opening. Once dilated, a tube attached to a suc-\\ntion pump is inserted through the cervix and the con-\\ntents of the uterus are suctioned out. The procedure is\\n97-99% effective. The amount of discomfort a woman\\nfeels varies considerably. Local anesthesia is often\\ngiven to numb the cervix, but it does not mask uterine\\ncramping. After a few hours of rest, the woman may\\nreturn home.\\nSecond trimester abortions\\nAlthough it is better to have an abortion during the\\nfirst trimester, some second trimester abortions may be\\ninevitable. The results of genetic testing are often not\\navailable until 16 weeks. In addition, women, especially\\nteens, may not have recognized the pregnancy or come to\\nterms with it emotionally soon enough to have a first\\ntrimester abortion. Teens make up the largest group hav-\\ning second trimester abortions.\\nSome second trimester abortions are performed as a\\nD & E. The procedures are similar to those used in the\\nfirst trimester, but a larger suction tube must be used\\nbecause more material must be removed. This increases\\nthe amount of cervical dilation necessary and increases\\nthe risk of the procedure. Many physicians are reluctant\\nto perform a D & E this late in pregnancy, and for some\\nwomen is it not a medically safe option.\\nThe alternative to a D & E in the second trimester is\\nan abortion by induced labor. Induced labor may require\\nan overnight stay in a hospital. The day before the proce-\\ndure, the woman visits the doctor for tests, and to either\\nKEY TERMS\\nEndocarditis —An infection of the inner mem-\\nbrane lining of the heart.\\nFibroid tumors —Fibroid tumors are non-cancer-\\nous (benign) growths in the uterus. They occur in\\n30-40% of women over age 40, and do not need\\nto be removed unless they are causing symptoms\\nthat interfere with a woman’s normal activities.\\nLupus erythematosus —A chronic inflammatory\\ndisease in which inappropriate immune system\\nreactions cause abnormalities in the blood vessels\\nand connective tissue.\\nProstaglandin —Oxygenated unsaturated cyclic\\nfatty acids responsible for various hormonal reac-\\ntions such as muscle contraction.\\nRh negative —Lacking the Rh factor, genetically\\ndetermined antigens in red blood cells that pro-\\nduce immune responses. If an Rh negative woman\\nis pregnant with an Rh positive fetus, her body will\\nproduce antibodies against the fetus’s blood, caus-\\ning a disease known as Rh disease. Sensitization to\\nthe disease occurs when the women’s blood is\\nexposed to the fetus’s blood. Rh immune globulin\\n(RhoGAM) is a vaccine that must be given to a\\nwoman after an abortion, miscarriage, or prenatal\\ntests in order to prevent sensitization to Rh disease.\\nhave rods inserted in her cervix to help dilate it or to\\nreceive medication that will soften the cervix and speed\\nup labor.\\nOn the day of the abortion, drugs, usually prosta-\\nglandins to induce contractions, and a salt water solution,\\nare injected into the uterus. Contractions begin, and with-\\nin eight to 72 hours the woman delivers the fetus.\\nSide effects of this procedure include nausea, vomit-\\ning, and diarrhea from the prostaglandins, and pain\\nfrom uterine cramps. Anesthesia of the sort used in\\nchildbirth can be given to mask the pain. Many women\\nare able to go home a few hours after the procedure.\\nVery early abortions cost between $200-$400. Later\\nabortions cost more. The cost increases about $100 per\\nweek between the thirteenth and sixteenth week. Second\\ntrimester abortions are much more costly because they\\noften involve more risk, more services, anesthesia, and\\nsometimes a hospital stay. Insurance carriers and HMOs\\nmay or may not cover the procedure. Federal law pro-\\nGALE ENCYCLOPEDIA OF MEDICINE 2 11\\nAbortion, therapeutic\\nGEM - 0001 to 0432 - A  10/22/03 1:41 PM  Page 11')]"
      ]
     },
     "execution_count": 16,
     "metadata": {},
     "output_type": "execute_result"
    }
   ],
   "source": [
    "filtered_docs[20:25]"
   ]
  },
  {
   "cell_type": "code",
   "execution_count": null,
   "id": "734b10cd",
   "metadata": {},
   "outputs": [],
   "source": [
    "#split documents into smaller chunks\n",
    "def split_text(docs):\n",
    "    text_splitter = RecursiveCharacterTextSplitter(\n",
    "        chunk_size=1000,\n",
    "        chunk_overlap=200\n",
    "    )\n",
    "    return text_splitter.split_documents(docs)\n"
   ]
  },
  {
   "cell_type": "code",
   "execution_count": 18,
   "id": "a56e446e",
   "metadata": {},
   "outputs": [],
   "source": [
    "text_chunks= split_text(filtered_docs)"
   ]
  },
  {
   "cell_type": "code",
   "execution_count": 21,
   "id": "b3c73c51",
   "metadata": {},
   "outputs": [
    {
     "data": {
      "text/plain": [
       "[Document(metadata={'source': 'data\\\\gale_encyclopedia_of_medicine.pdf'}, page_content='Higher frequency ultrasound waves produce more\\ndetailed images, but are also more readily absorbed and\\nso cannot penetrate as deeply into the body. Abdominal\\nultrasound imaging is generally performed at frequencies\\nbetween 2-5 MHz.\\nAn ultrasound machine consists of two parts: the\\ntransducer and the analyzer. The transducer both produces\\nthe sound waves that penetrate the body and receives the\\nreflected echoes. Transducers are built around piezoelec-\\ntric ceramic chips. (Piezoelectric refers to electricity that\\nis produced when you put pressure on certain crystals\\nsuch as quartz). These ceramic chips react to electric puls-\\nes by producing sound waves ( they are transmitting\\nwaves) and react to sound waves by producing electric\\npulses (receiving). Bursts of high frequency electric puls-\\nes supplied to the transducer causes it to produce the\\nscanning sound waves. The transducer then receives the\\nreturning echoes, translates them back into electric pulses'),\n",
       " Document(metadata={'source': 'data\\\\gale_encyclopedia_of_medicine.pdf'}, page_content='es supplied to the transducer causes it to produce the\\nscanning sound waves. The transducer then receives the\\nreturning echoes, translates them back into electric pulses\\nand sends them to the analyzer—a computer that orga-\\nnizes the data into an image on a television screen.\\nBecause sound waves travel through all the body’s\\ntissues at nearly the same speed—about 3,400 miles per\\nhour—the microseconds it takes for each echo to be\\nreceived can be plotted on the screen as a distance into the\\nbody. The relative strength of each echo, a function of the\\nspecific tissue or organ boundary that produced it, can be\\nplotted as a point of varying brightness. In this way, the\\nechoes are translated into a picture. Tissues surrounded\\nby bone or filled with gas (the stomach, intestines and\\nbowel) cannot be imaged using ultrasound, because the\\nwaves are blocked or become randomly scattered.\\nFour different modes of ultrasound are used in med-\\nical imaging:'),\n",
       " Document(metadata={'source': 'data\\\\gale_encyclopedia_of_medicine.pdf'}, page_content='bowel) cannot be imaged using ultrasound, because the\\nwaves are blocked or become randomly scattered.\\nFour different modes of ultrasound are used in med-\\nical imaging:\\n• A-mode. This is the simplest type of ultrasound in\\nwhich a single transducer scans a line through the body\\nwith the echoes plotted on screen as a function of\\ndepth. This method is used to measure distances within\\nthe body and the size of internal organs. Therapeutic\\nultrasound aimed at a specific tumor or calculus is also\\nA-mode, to allow for pinpoint accurate focus of the\\ndestructive wave energy.\\n• B-mode. In B-mode ultrasound, a linear array of trans-\\nducers simultaneously scans a plane through the body\\nthat can be viewed as a two-dimensional image on\\nscreen. Ultrasound probes containing more than 100\\ntransducers in sequence form the basis for these most\\ncommonly used scanners, which cost about $50,000.\\n• M-Mode. The M stands for motion. A rapid sequence\\nof B-mode scans whose images follow each other in'),\n",
       " Document(metadata={'source': 'data\\\\gale_encyclopedia_of_medicine.pdf'}, page_content='commonly used scanners, which cost about $50,000.\\n• M-Mode. The M stands for motion. A rapid sequence\\nof B-mode scans whose images follow each other in\\nsequence on screen enables doctors to see and mea-\\nsure range of motion, as the organ boundaries that\\nproduce reflections move relative to the probe. M-\\nmode ultrasound has been put to particular use in\\nstudying heart motion.\\n• Doppler mode. Doppler ultrasonography includes the\\ncapability of accurately measuring velocities of moving\\nmaterial, such as blood in arteries and veins. The prin-\\nciple is the same as that used in radar guns that measure\\nthe speed of a car on the highway. Doppler capability is\\nmost often combined with B-mode scanning to produce\\nimages of blood vessels from which blood flow can be\\ndirectly measured. This technique is used extensively to\\ninvestigate valve defects, arteriosclerosis and hyper-\\ntension, particularly in the heart, but also in the abdom-\\ninal aorta and the portal vein of the liver. These'),\n",
       " Document(metadata={'source': 'data\\\\gale_encyclopedia_of_medicine.pdf'}, page_content='investigate valve defects, arteriosclerosis and hyper-\\ntension, particularly in the heart, but also in the abdom-\\ninal aorta and the portal vein of the liver. These\\nmachines cost about $250,000.\\nThe actual procedure for a patient undergoing an\\nabdominal ultrasound is relatively simple, regardless of\\nthe type of scan or its purpose. Fasting for at least eight\\nhours prior to the procedure ensures that the stomach is\\nempty and as small as possible, and that the intestines\\nand bowels are relatively inactive. Fasting also allows the\\ngall bladder to be seen, as it contracts after eating and\\nmay not be seen if the stomach is full. In some cases, a\\nfull bladder helps to push intestinal folds out of the way\\nso that the gas they contain does not disrupt the image.\\nThe patient’s abdomen is then greased with a special gel\\nthat allows the ultrasound probe to glide easily across the\\nskin while transmitting and receiving ultrasonic pulses.\\nThis procedure is conducted by a doctor with the')]"
      ]
     },
     "execution_count": 21,
     "metadata": {},
     "output_type": "execute_result"
    }
   ],
   "source": [
    "text_chunks[50:55]"
   ]
  },
  {
   "cell_type": "code",
   "execution_count": 22,
   "id": "569bafd0",
   "metadata": {},
   "outputs": [
    {
     "data": {
      "text/plain": [
       "3426"
      ]
     },
     "execution_count": 22,
     "metadata": {},
     "output_type": "execute_result"
    }
   ],
   "source": [
    "len(text_chunks)"
   ]
  },
  {
   "cell_type": "code",
   "execution_count": 23,
   "id": "58d25985",
   "metadata": {},
   "outputs": [],
   "source": [
    "from langchain.embeddings import HuggingFaceEmbeddings\n",
    "import torch \n",
    "def download_embeddings(model_name: str) -> HuggingFaceEmbeddings:\n",
    "    return HuggingFaceEmbeddings(\n",
    "        model_name=model_name,\n",
    "        model_kwargs={\"device\": \"cuda\" if torch.cuda.is_available() else \"cpu\"}\n",
    "    )"
   ]
  },
  {
   "cell_type": "code",
   "execution_count": null,
   "id": "fe027091",
   "metadata": {},
   "outputs": [
    {
     "name": "stderr",
     "output_type": "stream",
     "text": [
      "C:\\Users\\sara\\AppData\\Local\\Temp\\ipykernel_9556\\3456768351.py:4: LangChainDeprecationWarning: The class `HuggingFaceEmbeddings` was deprecated in LangChain 0.2.2 and will be removed in 1.0. An updated version of the class exists in the :class:`~langchain-huggingface package and should be used instead. To use it run `pip install -U :class:`~langchain-huggingface` and import as `from :class:`~langchain_huggingface import HuggingFaceEmbeddings``.\n",
      "  return HuggingFaceEmbeddings(\n",
      "C:\\Users\\sara\\AppData\\Roaming\\Python\\Python310\\site-packages\\tqdm\\auto.py:21: TqdmWarning: IProgress not found. Please update jupyter and ipywidgets. See https://ipywidgets.readthedocs.io/en/stable/user_install.html\n",
      "  from .autonotebook import tqdm as notebook_tqdm\n",
      "C:\\Users\\sara\\AppData\\Roaming\\Python\\Python310\\site-packages\\huggingface_hub\\file_download.py:143: UserWarning: `huggingface_hub` cache-system uses symlinks by default to efficiently store duplicated files but your machine does not support them in C:\\Users\\sara\\.cache\\huggingface\\hub\\models--sentence-transformers--all-MiniLM-L6-v2. Caching files will still work but in a degraded version that might require more space on your disk. This warning can be disabled by setting the `HF_HUB_DISABLE_SYMLINKS_WARNING` environment variable. For more details, see https://huggingface.co/docs/huggingface_hub/how-to-cache#limitations.\n",
      "To support symlinks on Windows, you either need to activate Developer Mode or to run Python as an administrator. In order to activate developer mode, see this article: https://docs.microsoft.com/en-us/windows/apps/get-started/enable-your-device-for-development\n",
      "  warnings.warn(message)\n",
      "Xet Storage is enabled for this repo, but the 'hf_xet' package is not installed. Falling back to regular HTTP download. For better performance, install the package with: `pip install huggingface_hub[hf_xet]` or `pip install hf_xet`\n"
     ]
    }
   ],
   "source": [
    "embeddings= download_embeddings(\"sentence-transformers/all-MiniLM-L6-v2\")"
   ]
  },
  {
   "cell_type": "code",
   "execution_count": 25,
   "id": "60469f1c",
   "metadata": {},
   "outputs": [
    {
     "data": {
      "text/plain": [
       "HuggingFaceEmbeddings(client=SentenceTransformer(\n",
       "  (0): Transformer({'max_seq_length': 256, 'do_lower_case': False}) with Transformer model: BertModel \n",
       "  (1): Pooling({'word_embedding_dimension': 384, 'pooling_mode_cls_token': False, 'pooling_mode_mean_tokens': True, 'pooling_mode_max_tokens': False, 'pooling_mode_mean_sqrt_len_tokens': False, 'pooling_mode_weightedmean_tokens': False, 'pooling_mode_lasttoken': False, 'include_prompt': True})\n",
       "  (2): Normalize()\n",
       "), model_name='sentence-transformers/all-MiniLM-L6-v2', cache_folder=None, model_kwargs={'device': 'cpu'}, encode_kwargs={}, multi_process=False, show_progress=False)"
      ]
     },
     "execution_count": 25,
     "metadata": {},
     "output_type": "execute_result"
    }
   ],
   "source": [
    "embeddings"
   ]
  },
  {
   "cell_type": "code",
   "execution_count": 26,
   "id": "985adff1",
   "metadata": {},
   "outputs": [
    {
     "data": {
      "text/plain": [
       "True"
      ]
     },
     "execution_count": 26,
     "metadata": {},
     "output_type": "execute_result"
    }
   ],
   "source": [
    "from dotenv import load_dotenv\n",
    "load_dotenv()"
   ]
  },
  {
   "cell_type": "code",
   "execution_count": 27,
   "id": "f32939a4",
   "metadata": {},
   "outputs": [],
   "source": [
    "PINECONE_API_KEY = os.getenv(\"PINECONE_API_KEY\")\n",
    "GEMINI_API_KEY = os.getenv(\"GEMINI_API_KEY\")"
   ]
  },
  {
   "cell_type": "code",
   "execution_count": 28,
   "id": "b96a2b59",
   "metadata": {},
   "outputs": [],
   "source": [
    "from pinecone import Pinecone\n",
    "pc = Pinecone(api_key=PINECONE_API_KEY)"
   ]
  },
  {
   "cell_type": "code",
   "execution_count": 29,
   "id": "c82818a5",
   "metadata": {},
   "outputs": [
    {
     "data": {
      "text/plain": [
       "<pinecone.pinecone.Pinecone at 0x170dd53f5b0>"
      ]
     },
     "execution_count": 29,
     "metadata": {},
     "output_type": "execute_result"
    }
   ],
   "source": [
    "pc"
   ]
  },
  {
   "cell_type": "code",
   "execution_count": 31,
   "id": "72b7a02d",
   "metadata": {},
   "outputs": [],
   "source": [
    "from pinecone import ServerlessSpec\n",
    "\n",
    "index_name=\"medical-chatbot\"\n",
    "if not pc.has_index(index_name):\n",
    "   pc.create_index(\n",
    "      name= index_name,\n",
    "      dimension= 384,\n",
    "      metric= \"cosine\",\n",
    "      spec= ServerlessSpec(cloud=\"aws\", region=\"us-east-1\")\n",
    "   \n",
    "   ) \n",
    "   \n",
    "index = pc.Index(index_name)   \n"
   ]
  },
  {
   "cell_type": "code",
   "execution_count": 32,
   "id": "b5d8740b",
   "metadata": {},
   "outputs": [
    {
     "name": "stderr",
     "output_type": "stream",
     "text": [
      "C:\\Users\\sara\\AppData\\Roaming\\Python\\Python310\\site-packages\\torch\\nn\\modules\\module.py:1762: FutureWarning: `encoder_attention_mask` is deprecated and will be removed in version 4.55.0 for `BertSdpaSelfAttention.forward`.\n",
      "  return forward_call(*args, **kwargs)\n"
     ]
    }
   ],
   "source": [
    "from langchain_pinecone import PineconeVectorStore\n",
    "docsearch = PineconeVectorStore.from_documents(\n",
    "    documents=text_chunks,\n",
    "    embedding=embeddings,\n",
    "    index_name=index_name\n",
    ")"
   ]
  },
  {
   "cell_type": "code",
   "execution_count": 33,
   "id": "3af70305",
   "metadata": {},
   "outputs": [],
   "source": [
    "# load existing index\n",
    "docsearch = PineconeVectorStore.from_existing_index(\n",
    "    index_name= index_name,\n",
    "    embedding= embeddings\n",
    ")"
   ]
  },
  {
   "cell_type": "code",
   "execution_count": 34,
   "id": "e9e4fb4b",
   "metadata": {},
   "outputs": [
    {
     "data": {
      "text/plain": [
       "<langchain_pinecone.vectorstores.PineconeVectorStore at 0x170d61dd600>"
      ]
     },
     "execution_count": 34,
     "metadata": {},
     "output_type": "execute_result"
    }
   ],
   "source": [
    "docsearch"
   ]
  },
  {
   "cell_type": "code",
   "execution_count": 39,
   "id": "72020d6a",
   "metadata": {},
   "outputs": [],
   "source": [
    "retriever = docsearch.as_retriever(\n",
    "    search_type=\"similarity\",\n",
    "    search_kwargs={'k': 3} \n",
    "    )"
   ]
  },
  {
   "cell_type": "code",
   "execution_count": 41,
   "id": "987be6e5",
   "metadata": {},
   "outputs": [
    {
     "name": "stderr",
     "output_type": "stream",
     "text": [
      "C:\\Users\\sara\\AppData\\Roaming\\Python\\Python310\\site-packages\\torch\\nn\\modules\\module.py:1762: FutureWarning: `encoder_attention_mask` is deprecated and will be removed in version 4.55.0 for `BertSdpaSelfAttention.forward`.\n",
      "  return forward_call(*args, **kwargs)\n"
     ]
    },
    {
     "data": {
      "text/plain": [
       "[Document(id='5745c43b-55fa-478a-aebe-8c57ffbca9bc', metadata={'source': 'data\\\\gale_encyclopedia_of_medicine.pdf'}, page_content='not require treatment. Those with severe thalassemia\\nmay require bone marrow transplantation. Genetic thera-\\npy is is being investigated and may soon be available.\\nHemolytic anemia\\nAcquired hemolytic anemia can generally be cured\\nwhen the cause is removed.\\nPrevention\\nInherited anemias cannot be prevented. Genetic\\ncounseling can help parents cope with questions and\\nconcerns about transmitting disease-causing genes to\\ntheir children.\\nAvoiding excessive use of alcohol, eating a balanced\\ndiet that contains plenty of iron-rich foods, and taking a\\ndaily multivitamin can help prevent anemia.\\nMethods of preventing specific types of anemia\\ninclude:\\n• avoiding lengthy exposure to industrial chemicals and\\ndrugs known to cause aplastic anemia\\n• not taking medication that has triggered hemolytic ane-\\nmia and not eating foods that have caused hemolysis\\n(breakdown of red blood cells)\\n• receiving regular B\\n12 shots to prevent pernicious anemia\\nresulting from gastritis or stomach surgery\\nResources'),\n",
       " Document(id='1401b621-e662-4559-be06-9534d2ad94f0', metadata={'source': 'data\\\\gale_encyclopedia_of_medicine.pdf'}, page_content='• dong quai ( Angelica sinensis ) to control heavy men-\\nstrual bleeding\\n• a mixture of dong quai and Chinese foxglove(Rehman-\\nnia glutinosa) to clear a sallow complexion\\nPrognosis\\nFolic-acid and iron-deficiency anemias\\nIt usually takes three to six weeks to correct folic\\nacid or iron deficiency anemia. Patients should continue\\ntaking supplements for another six months to replenish\\niron reserves and should have periodic blood tests to\\nmake sure the bleeding has stopped and the anemia has\\nnot recurred.\\nPernicious anemia\\nAlthough pernicious anemia is considered incurable,\\nregular B\\n12 shots will alleviate symptoms and reverse\\ncomplications. Some symptoms will disappear almost as\\nsoon as treatment begins.\\nAplastic anemia\\nAplastic anemia can sometimes be cured by bone\\nmarrow transplantation. If the condition is due to\\nimmunosuppressive drugs, symptoms may disappear\\nafter the drugs are discontinued.\\nSickle cell anemia\\nAlthough sickle cell anemia cannot be cured, effec-'),\n",
       " Document(id='c5668769-6a6b-4276-adca-3c7b3eab233a', metadata={'source': 'data\\\\gale_encyclopedia_of_medicine.pdf'}, page_content='be treated at home with iron supplements or self adminis-\\ntered injections of vitamin B\\n12. People with folic acid\\nanemia should take oral folic acid replacements. Vitamin\\nC deficiency anemia can be cured by taking one vitamin\\nC tablet a day.\\nSurgery may be necessary to treat anemia caused by\\nexcessive loss of blood. Transfusions of red blood cells\\nmay be used to accelerate production of red blood cells.\\nMedication or surgery may also be necessary to con-\\ntrol heavy menstrual flow, repair a bleeding ulcer, or\\nremove polyps (growths or nodules) from the bowels.\\nPatients with thalassemia usually do not require\\ntreatment. However people with a severe form may\\nrequire periodic hospitalization for blood transfusions\\nand/or bone marrow transplantation.\\nSICKLE CELL ANEMIA. Treatment for sickle cell ane-\\nmia involves regular eye examinations, immunizations\\nfor pneumonia and infectious diseases, and prompt treat-\\nment for sickle cell crises and infections of any kind.')]"
      ]
     },
     "execution_count": 41,
     "metadata": {},
     "output_type": "execute_result"
    }
   ],
   "source": [
    "retrieved_docs = retriever.invoke(\"What is the treatment for anemia?\")\n",
    "retrieved_docs"
   ]
  },
  {
   "cell_type": "code",
   "execution_count": 42,
   "id": "17154af7",
   "metadata": {},
   "outputs": [],
   "source": [
    "from langchain_google_genai import GoogleGenerativeAI\n",
    "model = GoogleGenerativeAI(\n",
    "    model=\"gemini-2.5-flash\",\n",
    "    google_api_key=GEMINI_API_KEY\n",
    ")\n"
   ]
  },
  {
   "cell_type": "code",
   "execution_count": 43,
   "id": "0460994e",
   "metadata": {},
   "outputs": [],
   "source": [
    "from langchain.chains import create_retrieval_chain\n",
    "from langchain.chains.combine_documents import create_stuff_documents_chain\n",
    "from langchain_core.prompts import ChatPromptTemplate"
   ]
  },
  {
   "cell_type": "code",
   "execution_count": 47,
   "id": "49b189d0",
   "metadata": {},
   "outputs": [],
   "source": [
    "system_prompt = (\n",
    "    \"You are a medical assistant for question-answering tasks. \"\n",
    "    \"Use the following pieces of retrieved context to answer \"\n",
    "    \"the question. If you don't know the answer, say that you \"\n",
    "    \"don't know.\\n\\n\"\n",
    "    \"{context}\"\n",
    ")\n",
    "\n",
    "prompt = ChatPromptTemplate.from_messages(\n",
    "    [\n",
    "        (\"system\", system_prompt),\n",
    "        (\"human\", \"{input}\")\n",
    "    ]\n",
    ")"
   ]
  },
  {
   "cell_type": "code",
   "execution_count": 48,
   "id": "4b35abf8",
   "metadata": {},
   "outputs": [],
   "source": [
    "question_answer_chain= create_stuff_documents_chain(model, prompt)\n",
    "rag_chain= create_retrieval_chain(retriever, question_answer_chain)"
   ]
  },
  {
   "cell_type": "code",
   "execution_count": 50,
   "id": "5c05c568",
   "metadata": {},
   "outputs": [
    {
     "name": "stderr",
     "output_type": "stream",
     "text": [
      "C:\\Users\\sara\\AppData\\Roaming\\Python\\Python310\\site-packages\\torch\\nn\\modules\\module.py:1762: FutureWarning: `encoder_attention_mask` is deprecated and will be removed in version 4.55.0 for `BertSdpaSelfAttention.forward`.\n",
      "  return forward_call(*args, **kwargs)\n"
     ]
    },
    {
     "name": "stdout",
     "output_type": "stream",
     "text": [
      "The treatment for anemia varies depending on the type and cause:\n",
      "\n",
      "*   **Folic-acid and iron-deficiency anemias:** Usually treated with iron supplements, self-administered injections of vitamin B12, or oral folic acid replacements. Vitamin C deficiency anemia can be cured by taking one vitamin C tablet a day. Supplements may need to be continued for six months to replenish reserves.\n",
      "*   **Anemia caused by excessive blood loss:** May require surgery to control bleeding, such as for heavy menstrual flow, a bleeding ulcer, or to remove polyps from the bowels. Transfusions of red blood cells may be used to accelerate red blood cell production.\n",
      "*   **Thalassemia:** Patients usually do not require treatment. However, those with a severe form may need periodic hospitalization for blood transfusions and/or bone marrow transplantation. Genetic therapy is also being investigated.\n",
      "*   **Sickle cell anemia:** Cannot be cured, but treatment involves regular eye examinations, immunizations for pneumonia and infectious diseases, and prompt treatment for sickle cell crises and infections.\n",
      "*   **Hemolytic anemia:** Can generally be cured when the underlying cause is removed.\n",
      "*   **Pernicious anemia:** Considered incurable, but regular B12 shots will alleviate symptoms and reverse complications.\n",
      "*   **Aplastic anemia:** Can sometimes be cured by bone marrow transplantation. If caused by immunosuppressive drugs, symptoms may disappear after the drugs are discontinued.\n"
     ]
    }
   ],
   "source": [
    "response = rag_chain.invoke({\n",
    "    \"input\": \"What is the treatment for anemia?\"})\n",
    "print(response['answer'])"
   ]
  },
  {
   "cell_type": "code",
   "execution_count": null,
   "id": "347131a6",
   "metadata": {},
   "outputs": [],
   "source": []
  }
 ],
 "metadata": {
  "kernelspec": {
   "display_name": "medibot",
   "language": "python",
   "name": "python3"
  },
  "language_info": {
   "codemirror_mode": {
    "name": "ipython",
    "version": 3
   },
   "file_extension": ".py",
   "mimetype": "text/x-python",
   "name": "python",
   "nbconvert_exporter": "python",
   "pygments_lexer": "ipython3",
   "version": "3.10.18"
  }
 },
 "nbformat": 4,
 "nbformat_minor": 5
}
